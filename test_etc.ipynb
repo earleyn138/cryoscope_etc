{
 "cells": [
  {
   "cell_type": "code",
   "execution_count": 1,
   "id": "dd6f59b8",
   "metadata": {},
   "outputs": [],
   "source": [
    "import numpy as np\n",
    "import matplotlib.pyplot as plt\n",
    "from etc import PlanExposure"
   ]
  },
  {
   "cell_type": "code",
   "execution_count": 2,
   "id": "8d63a0b6",
   "metadata": {},
   "outputs": [
    {
     "data": {
      "image/png": "[encoded data removed]",
      "text/plain": [
       "<Figure size 432x288 with 1 Axes>"
      ]
     },
     "metadata": {
      "needs_background": "light"
     },
     "output_type": "display_data"
    }
   ],
   "source": [
    "# Specify parameters in an input parameter file\n",
    "filename = \"./etc_param.txt\"\n",
    "\n",
    "# Plot SNR vs magnitude at the predefined exposure time in the parameter file\n",
    "magrange=np.arange(12,22) # AB magnitudes\n",
    "plan = PlanExposure(filename)\n",
    "srcrate, snr = plan.plot_snr(magrange)\n",
    "plt.gca()\n",
    "plt.yscale('linear')"
   ]
  },
  {
   "cell_type": "code",
   "execution_count": 3,
   "id": "933b4ad2",
   "metadata": {},
   "outputs": [],
   "source": [
    "import pandas as pd"
   ]
  },
  {
   "cell_type": "code",
   "execution_count": 4,
   "id": "7f6fd29e",
   "metadata": {},
   "outputs": [
    {
     "name": "stdout",
     "output_type": "stream",
     "text": [
      "Exposure time: 300.0 s\n",
      "Sky Rate: 350.7 e/s/pix\n"
     ]
    },
    {
     "data": {
      "text/html": [
       "<div>\n",
       "<style scoped>\n",
       "    .dataframe tbody tr th:only-of-type {\n",
       "        vertical-align: middle;\n",
       "    }\n",
       "\n",
       "    .dataframe tbody tr th {\n",
       "        vertical-align: top;\n",
       "    }\n",
       "\n",
       "    .dataframe thead th {\n",
       "        text-align: right;\n",
       "    }\n",
       "</style>\n",
       "<table border=\"1\" class=\"dataframe\">\n",
       "  <thead>\n",
       "    <tr style=\"text-align: right;\">\n",
       "      <th></th>\n",
       "      <th>AB_Magnitude</th>\n",
       "      <th>~VegMag</th>\n",
       "      <th>Src count rate (e/s)</th>\n",
       "      <th>SNR</th>\n",
       "    </tr>\n",
       "  </thead>\n",
       "  <tbody>\n",
       "    <tr>\n",
       "      <th>0</th>\n",
       "      <td>12</td>\n",
       "      <td>10.15</td>\n",
       "      <td>3362.4</td>\n",
       "      <td>949.3</td>\n",
       "    </tr>\n",
       "    <tr>\n",
       "      <th>1</th>\n",
       "      <td>13</td>\n",
       "      <td>11.15</td>\n",
       "      <td>1338.6</td>\n",
       "      <td>555.8</td>\n",
       "    </tr>\n",
       "    <tr>\n",
       "      <th>2</th>\n",
       "      <td>14</td>\n",
       "      <td>12.15</td>\n",
       "      <td>532.9</td>\n",
       "      <td>302.0</td>\n",
       "    </tr>\n",
       "    <tr>\n",
       "      <th>3</th>\n",
       "      <td>15</td>\n",
       "      <td>13.15</td>\n",
       "      <td>212.2</td>\n",
       "      <td>148.3</td>\n",
       "    </tr>\n",
       "    <tr>\n",
       "      <th>4</th>\n",
       "      <td>16</td>\n",
       "      <td>14.15</td>\n",
       "      <td>84.5</td>\n",
       "      <td>66.4</td>\n",
       "    </tr>\n",
       "    <tr>\n",
       "      <th>5</th>\n",
       "      <td>17</td>\n",
       "      <td>15.15</td>\n",
       "      <td>33.6</td>\n",
       "      <td>27.9</td>\n",
       "    </tr>\n",
       "    <tr>\n",
       "      <th>6</th>\n",
       "      <td>18</td>\n",
       "      <td>16.15</td>\n",
       "      <td>13.4</td>\n",
       "      <td>11.4</td>\n",
       "    </tr>\n",
       "    <tr>\n",
       "      <th>7</th>\n",
       "      <td>19</td>\n",
       "      <td>17.15</td>\n",
       "      <td>5.3</td>\n",
       "      <td>4.6</td>\n",
       "    </tr>\n",
       "    <tr>\n",
       "      <th>8</th>\n",
       "      <td>20</td>\n",
       "      <td>18.15</td>\n",
       "      <td>2.1</td>\n",
       "      <td>1.8</td>\n",
       "    </tr>\n",
       "    <tr>\n",
       "      <th>9</th>\n",
       "      <td>21</td>\n",
       "      <td>19.15</td>\n",
       "      <td>0.8</td>\n",
       "      <td>0.7</td>\n",
       "    </tr>\n",
       "  </tbody>\n",
       "</table>\n",
       "</div>"
      ],
      "text/plain": [
       "   AB_Magnitude  ~VegMag  Src count rate (e/s)    SNR\n",
       "0            12    10.15                3362.4  949.3\n",
       "1            13    11.15                1338.6  555.8\n",
       "2            14    12.15                 532.9  302.0\n",
       "3            15    13.15                 212.2  148.3\n",
       "4            16    14.15                  84.5   66.4\n",
       "5            17    15.15                  33.6   27.9\n",
       "6            18    16.15                  13.4   11.4\n",
       "7            19    17.15                   5.3    4.6\n",
       "8            20    18.15                   2.1    1.8\n",
       "9            21    19.15                   0.8    0.7"
      ]
     },
     "execution_count": 4,
     "metadata": {},
     "output_type": "execute_result"
    }
   ],
   "source": [
    "print('Exposure time: {} s'.format(plan.exptime))\n",
    "print('Sky Rate: {:.1f} e/s/pix'.format(plan.calc_sky_noise()))\n",
    "\n",
    "df = pd.DataFrame({'AB_Magnitude': magrange,'~VegMag': magrange-1.85, 'Src count rate (e/s)': srcrate, 'SNR': snr})\n",
    "df['Src count rate (e/s)'] = df['Src count rate (e/s)'].round(1)\n",
    "df['SNR'] = df['SNR'].round(1)\n",
    "df"
   ]
  },
  {
   "cell_type": "code",
   "execution_count": 5,
   "id": "08342126",
   "metadata": {},
   "outputs": [
    {
     "data": {
      "image/png": "[encoded data removed]",
      "text/plain": [
       "<Figure size 432x288 with 1 Axes>"
      ]
     },
     "metadata": {
      "needs_background": "light"
     },
     "output_type": "display_data"
    }
   ],
   "source": [
    "# Plot exposure time needed to reach a given SNR \n",
    "times = plan.plot_exptime(magrange,snr_desired=10)"
   ]
  },
  {
   "cell_type": "code",
   "execution_count": 6,
   "id": "5f18fb51",
   "metadata": {},
   "outputs": [],
   "source": [
    "# Saving parameter files from this notebook\n",
    "\n",
    "# # Example data with values and corresponding labels\n",
    "# parameters = np.array([1,300,1.20E-04,0.9,\n",
    "#                    15,50,1.80E-05,2048,\n",
    "#                    0.9,0.26,0.95,0.98,\n",
    "#                    5.00E-03,4,4.00E-02,\n",
    "#                    1,2.38E-06,2.26E-07])\n",
    "\n",
    "# labels = np.array(['Coadds','Frame Time [s]','Sky Brightness [Jy]','Focal Length [m]',\n",
    "#                    'Read Noise [e/s]','Dark Current [e/s]','Pixel Size [m]', 'Num of pixels on edge',\n",
    "#                    'Quantum efficiency','Aperture diameter [m]','Average sky transmission','Filter throughpout',\n",
    "#                    'Transmission loss per surface','Number of transmission losses','Loss per rfelction','Number of reflections',\n",
    "#                    'Central wavelength [m]','Passband [m]'])\n",
    "\n",
    "# # Combine values and labels into a structured array\n",
    "# paramfile = np.rec.fromarrays([parameters, labels], names=('Value', 'Label'))\n",
    "\n",
    "# # Save the structured array to a file\n",
    "# #np.savetxt(filename, paramfile, fmt='%s', delimiter='\\t')\n",
    "# #print(\"File saved successfully.\")"
   ]
  }
 ],
 "metadata": {
  "kernelspec": {
   "display_name": "Python 3 (ipykernel)",
   "language": "python",
   "name": "python3"
  },
  "language_info": {
   "codemirror_mode": {
    "name": "ipython",
    "version": 3
   },
   "file_extension": ".py",
   "mimetype": "text/x-python",
   "name": "python",
   "nbconvert_exporter": "python",
   "pygments_lexer": "ipython3",
   "version": "3.9.12"
  }
 },
 "nbformat": 4,
 "nbformat_minor": 5
}
