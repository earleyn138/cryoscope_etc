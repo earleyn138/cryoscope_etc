{
 "cells": [
  {
   "cell_type": "code",
   "execution_count": 1,
   "id": "dd6f59b8",
   "metadata": {},
   "outputs": [],
   "source": [
    "from etc import PlanExposure\n",
    "import numpy as np\n",
    "import matplotlib.pyplot as plt"
   ]
  },
  {
   "cell_type": "code",
   "execution_count": 14,
   "id": "8d63a0b6",
   "metadata": {},
   "outputs": [
    {
     "data": {
      "image/png": "[encoded data removed]",
      "text/plain": [
       "<Figure size 432x288 with 1 Axes>"
      ]
     },
     "metadata": {
      "needs_background": "light"
     },
     "output_type": "display_data"
    }
   ],
   "source": [
    "filename = \"./etc_param.txt\"\n",
    "magrange=np.arange(10,23)\n",
    "plan = PlanExposure(filename)\n",
    "magrange, srcrate, snr = plan.plot_snr(magrange)"
   ]
  },
  {
   "cell_type": "code",
   "execution_count": 15,
   "id": "933b4ad2",
   "metadata": {},
   "outputs": [],
   "source": [
    "import pandas as pd"
   ]
  },
  {
   "cell_type": "code",
   "execution_count": 16,
   "id": "7f6fd29e",
   "metadata": {},
   "outputs": [
    {
     "data": {
      "text/html": [
       "<div>\n",
       "<style scoped>\n",
       "    .dataframe tbody tr th:only-of-type {\n",
       "        vertical-align: middle;\n",
       "    }\n",
       "\n",
       "    .dataframe tbody tr th {\n",
       "        vertical-align: top;\n",
       "    }\n",
       "\n",
       "    .dataframe thead th {\n",
       "        text-align: right;\n",
       "    }\n",
       "</style>\n",
       "<table border=\"1\" class=\"dataframe\">\n",
       "  <thead>\n",
       "    <tr style=\"text-align: right;\">\n",
       "      <th></th>\n",
       "      <th>Magnitude</th>\n",
       "      <th>Src count rate (e/s)</th>\n",
       "      <th>SNR</th>\n",
       "    </tr>\n",
       "  </thead>\n",
       "  <tbody>\n",
       "    <tr>\n",
       "      <th>0</th>\n",
       "      <td>10</td>\n",
       "      <td>22119.5</td>\n",
       "      <td>3344.1</td>\n",
       "    </tr>\n",
       "    <tr>\n",
       "      <th>1</th>\n",
       "      <td>11</td>\n",
       "      <td>8844.8</td>\n",
       "      <td>2094.9</td>\n",
       "    </tr>\n",
       "    <tr>\n",
       "      <th>2</th>\n",
       "      <td>12</td>\n",
       "      <td>3536.7</td>\n",
       "      <td>1295.1</td>\n",
       "    </tr>\n",
       "    <tr>\n",
       "      <th>3</th>\n",
       "      <td>13</td>\n",
       "      <td>1414.2</td>\n",
       "      <td>777.1</td>\n",
       "    </tr>\n",
       "    <tr>\n",
       "      <th>4</th>\n",
       "      <td>14</td>\n",
       "      <td>565.5</td>\n",
       "      <td>439.6</td>\n",
       "    </tr>\n",
       "    <tr>\n",
       "      <th>5</th>\n",
       "      <td>15</td>\n",
       "      <td>226.1</td>\n",
       "      <td>227.1</td>\n",
       "    </tr>\n",
       "    <tr>\n",
       "      <th>6</th>\n",
       "      <td>16</td>\n",
       "      <td>90.4</td>\n",
       "      <td>106.1</td>\n",
       "    </tr>\n",
       "    <tr>\n",
       "      <th>7</th>\n",
       "      <td>17</td>\n",
       "      <td>36.2</td>\n",
       "      <td>45.9</td>\n",
       "    </tr>\n",
       "    <tr>\n",
       "      <th>8</th>\n",
       "      <td>18</td>\n",
       "      <td>14.5</td>\n",
       "      <td>19.0</td>\n",
       "    </tr>\n",
       "    <tr>\n",
       "      <th>9</th>\n",
       "      <td>19</td>\n",
       "      <td>5.8</td>\n",
       "      <td>7.7</td>\n",
       "    </tr>\n",
       "    <tr>\n",
       "      <th>10</th>\n",
       "      <td>20</td>\n",
       "      <td>2.3</td>\n",
       "      <td>3.1</td>\n",
       "    </tr>\n",
       "    <tr>\n",
       "      <th>11</th>\n",
       "      <td>21</td>\n",
       "      <td>0.9</td>\n",
       "      <td>1.2</td>\n",
       "    </tr>\n",
       "    <tr>\n",
       "      <th>12</th>\n",
       "      <td>22</td>\n",
       "      <td>0.4</td>\n",
       "      <td>0.5</td>\n",
       "    </tr>\n",
       "  </tbody>\n",
       "</table>\n",
       "</div>"
      ],
      "text/plain": [
       "    Magnitude  Src count rate (e/s)     SNR\n",
       "0          10               22119.5  3344.1\n",
       "1          11                8844.8  2094.9\n",
       "2          12                3536.7  1295.1\n",
       "3          13                1414.2   777.1\n",
       "4          14                 565.5   439.6\n",
       "5          15                 226.1   227.1\n",
       "6          16                  90.4   106.1\n",
       "7          17                  36.2    45.9\n",
       "8          18                  14.5    19.0\n",
       "9          19                   5.8     7.7\n",
       "10         20                   2.3     3.1\n",
       "11         21                   0.9     1.2\n",
       "12         22                   0.4     0.5"
      ]
     },
     "execution_count": 16,
     "metadata": {},
     "output_type": "execute_result"
    }
   ],
   "source": [
    "df = pd.DataFrame({'Magnitude': magrange, 'Src count rate (e/s)': srcrate, 'SNR': snr})\n",
    "\n",
    "df['Src count rate (e/s)'] = df['Src count rate (e/s)'].round(1)\n",
    "df['SNR'] = df['SNR'].round(1)\n",
    "df"
   ]
  },
  {
   "cell_type": "code",
   "execution_count": 6,
   "id": "bdc101fb",
   "metadata": {},
   "outputs": [
    {
     "data": {
      "text/plain": [
       "512.0"
      ]
     },
     "execution_count": 6,
     "metadata": {},
     "output_type": "execute_result"
    }
   ],
   "source": [
    "plan.params.exptime"
   ]
  },
  {
   "cell_type": "code",
   "execution_count": 5,
   "id": "5f18fb51",
   "metadata": {},
   "outputs": [],
   "source": [
    "# Saving parameter files\n",
    "\n",
    "# # Example data with values and corresponding labels\n",
    "# parameters = np.array([1,300,1.20E-04,0.9,\n",
    "#                    15,50,1.80E-05,2048,\n",
    "#                    0.9,0.26,0.95,0.98,\n",
    "#                    5.00E-03,4,4.00E-02,\n",
    "#                    1,2.38E-06,2.26E-07])\n",
    "\n",
    "# labels = np.array(['Coadds','Frame Time [s]','Sky Brightness [Jy]','Focal Length [m]',\n",
    "#                    'Read Noise [e/s]','Dark Current [e/s]','Pixel Size [m]', 'Num of pixels on edge',\n",
    "#                    'Quantum efficiency','Aperture diameter [m]','Average sky transmission','Filter throughpout',\n",
    "#                    'Transmission loss per surface','Number of transmission losses','Loss per rfelction','Number of reflections',\n",
    "#                    'Central wavelength [m]','Passband [m]'])\n",
    "\n",
    "# # Combine values and labels into a structured array\n",
    "# paramfile = np.rec.fromarrays([parameters, labels], names=('Value', 'Label'))\n",
    "\n",
    "# # Save the structured array to a file\n",
    "# #np.savetxt(filename, paramfile, fmt='%s', delimiter='\\t')\n",
    "# #print(\"File saved successfully.\")"
   ]
  },
  {
   "cell_type": "code",
   "execution_count": null,
   "id": "b274d7ce",
   "metadata": {},
   "outputs": [],
   "source": []
  }
 ],
 "metadata": {
  "kernelspec": {
   "display_name": "Python 3 (ipykernel)",
   "language": "python",
   "name": "python3"
  },
  "language_info": {
   "codemirror_mode": {
    "name": "ipython",
    "version": 3
   },
   "file_extension": ".py",
   "mimetype": "text/x-python",
   "name": "python",
   "nbconvert_exporter": "python",
   "pygments_lexer": "ipython3",
   "version": "3.9.12"
  }
 },
 "nbformat": 4,
 "nbformat_minor": 5
}
