{
 "cells": [
  {
   "cell_type": "code",
   "execution_count": 1,
   "id": "dd6f59b8",
   "metadata": {},
   "outputs": [],
   "source": [
    "from etc import PlanExposure\n",
    "import numpy as np\n",
    "import matplotlib.pyplot as plt"
   ]
  },
  {
   "cell_type": "code",
   "execution_count": 4,
   "id": "8d63a0b6",
   "metadata": {},
   "outputs": [
    {
     "name": "stdout",
     "output_type": "stream",
     "text": [
      "10 41694.264067953714\n",
      "11 16671.978466033273\n",
      "12 6666.501308641974\n",
      "13 2665.684806915372\n",
      "14 1065.9077619332195\n",
      "15 426.21669073629334\n",
      "16 170.42813079128172\n",
      "17 68.14784215708077\n",
      "18 27.249776014699837\n",
      "19 10.896167352441381\n",
      "20 4.356970233750268\n"
     ]
    },
    {
     "data": {
      "image/png": "[encoded data removed]",
      "text/plain": [
       "<Figure size 432x288 with 1 Axes>"
      ]
     },
     "metadata": {
      "needs_background": "light"
     },
     "output_type": "display_data"
    }
   ],
   "source": [
    "filename = \"./etc_param2.txt\"\n",
    "magrange=np.arange(10,21)\n",
    "plan = PlanExposure(filename)\n",
    "magrange, snr = plan.plot_snr(magrange)"
   ]
  },
  {
   "cell_type": "code",
   "execution_count": null,
   "id": "933b4ad2",
   "metadata": {},
   "outputs": [],
   "source": [
    "magrange, snr"
   ]
  },
  {
   "cell_type": "code",
   "execution_count": null,
   "id": "5f18fb51",
   "metadata": {},
   "outputs": [],
   "source": [
    "# Saving files\n",
    "\n",
    "# # Example data with values and corresponding labels\n",
    "# parameters = np.array([1,300,1.20E-04,0.9,\n",
    "#                    15,50,1.80E-05,2048,\n",
    "#                    0.9,0.26,0.95,0.98,\n",
    "#                    5.00E-03,4,4.00E-02,\n",
    "#                    1,2.38E-06,2.26E-07])\n",
    "\n",
    "# labels = np.array(['Coadds','Frame Time [s]','Sky Brightness [Jy]','Focal Length [m]',\n",
    "#                    'Read Noise [e/s]','Dark Current [e/s]','Pixel Size [m]', 'Num of pixels on edge',\n",
    "#                    'Quantum efficiency','Aperture diameter [m]','Average sky transmission','Filter throughpout',\n",
    "#                    'Transmission loss per surface','Number of transmission losses','Loss per rfelction','Number of reflections',\n",
    "#                    'Central wavelength [m]','Passband [m]'])\n",
    "\n",
    "# # Combine values and labels into a structured array\n",
    "# paramfile = np.rec.fromarrays([parameters, labels], names=('Value', 'Label'))\n",
    "\n",
    "# # Save the structured array to a file\n",
    "# #np.savetxt(filename, paramfile, fmt='%s', delimiter='\\t')\n",
    "# #print(\"File saved successfully.\")"
   ]
  },
  {
   "cell_type": "code",
   "execution_count": null,
   "id": "b274d7ce",
   "metadata": {},
   "outputs": [],
   "source": []
  }
 ],
 "metadata": {
  "kernelspec": {
   "display_name": "Python 3 (ipykernel)",
   "language": "python",
   "name": "python3"
  },
  "language_info": {
   "codemirror_mode": {
    "name": "ipython",
    "version": 3
   },
   "file_extension": ".py",
   "mimetype": "text/x-python",
   "name": "python",
   "nbconvert_exporter": "python",
   "pygments_lexer": "ipython3",
   "version": "3.9.12"
  }
 },
 "nbformat": 4,
 "nbformat_minor": 5
}
