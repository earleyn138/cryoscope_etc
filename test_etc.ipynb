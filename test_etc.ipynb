{
 "cells": [
  {
   "cell_type": "code",
   "execution_count": 1,
   "id": "dd6f59b8",
   "metadata": {},
   "outputs": [],
   "source": [
    "import numpy as np\n",
    "import pandas as pd\n",
    "import matplotlib.pyplot as plt\n",
    "from etc import PlanExposure"
   ]
  },
  {
   "cell_type": "code",
   "execution_count": 2,
   "id": "8d63a0b6",
   "metadata": {},
   "outputs": [],
   "source": [
    "# Specify parameters in an input parameter file\n",
    "filename = \"prototype_params.txt\""
   ]
  },
  {
   "cell_type": "markdown",
   "id": "fd690f07",
   "metadata": {},
   "source": [
    "To just use estimated average values for parameters stored in the parameter file, set integrate to False. This is equivalent to using the Excel spreadsheet."
   ]
  },
  {
   "cell_type": "code",
   "execution_count": 3,
   "id": "e3c7d0b5",
   "metadata": {},
   "outputs": [
    {
     "data": {
      "image/png": "[encoded data removed]",
      "text/plain": [
       "<Figure size 432x288 with 1 Axes>"
      ]
     },
     "metadata": {
      "needs_background": "light"
     },
     "output_type": "display_data"
    }
   ],
   "source": [
    "plan = PlanExposure(paramfile=filename,integrate=False)\n",
    "\n",
    "magrange=np.arange(10,24) #The ETC assumes AB magnitudes are provided\n",
    "\n",
    "# Plot SNR vs magnitude at the predefined exposure time in the parameter file\n",
    "srcrate, snr = plan.plot_snr(magrange)\n",
    "plt.gca()\n",
    "plt.yscale('linear')"
   ]
  },
  {
   "cell_type": "code",
   "execution_count": 4,
   "id": "5bf8ac06",
   "metadata": {},
   "outputs": [
    {
     "name": "stdout",
     "output_type": "stream",
     "text": [
      "Frame time: 2.0 s\n",
      "Coadds: 512.0\n",
      "Total integration time: 17.1 min\n",
      "Sky Rate: 337.8 e/s/pix\n"
     ]
    },
    {
     "data": {
      "text/html": [
       "<div>\n",
       "<style scoped>\n",
       "    .dataframe tbody tr th:only-of-type {\n",
       "        vertical-align: middle;\n",
       "    }\n",
       "\n",
       "    .dataframe tbody tr th {\n",
       "        vertical-align: top;\n",
       "    }\n",
       "\n",
       "    .dataframe thead th {\n",
       "        text-align: right;\n",
       "    }\n",
       "</style>\n",
       "<table border=\"1\" class=\"dataframe\">\n",
       "  <thead>\n",
       "    <tr style=\"text-align: right;\">\n",
       "      <th></th>\n",
       "      <th>AB_Magnitude</th>\n",
       "      <th>~VegMag</th>\n",
       "      <th>Src count rate (e/s)</th>\n",
       "      <th>SNR</th>\n",
       "    </tr>\n",
       "  </thead>\n",
       "  <tbody>\n",
       "    <tr>\n",
       "      <th>0</th>\n",
       "      <td>10</td>\n",
       "      <td>8.15</td>\n",
       "      <td>20438.6</td>\n",
       "      <td>4519.9</td>\n",
       "    </tr>\n",
       "    <tr>\n",
       "      <th>1</th>\n",
       "      <td>11</td>\n",
       "      <td>9.15</td>\n",
       "      <td>8136.8</td>\n",
       "      <td>2801.7</td>\n",
       "    </tr>\n",
       "    <tr>\n",
       "      <th>2</th>\n",
       "      <td>12</td>\n",
       "      <td>10.15</td>\n",
       "      <td>3239.3</td>\n",
       "      <td>1695.1</td>\n",
       "    </tr>\n",
       "    <tr>\n",
       "      <th>3</th>\n",
       "      <td>13</td>\n",
       "      <td>11.15</td>\n",
       "      <td>1289.6</td>\n",
       "      <td>975.4</td>\n",
       "    </tr>\n",
       "    <tr>\n",
       "      <th>4</th>\n",
       "      <td>14</td>\n",
       "      <td>12.15</td>\n",
       "      <td>513.4</td>\n",
       "      <td>516.0</td>\n",
       "    </tr>\n",
       "    <tr>\n",
       "      <th>5</th>\n",
       "      <td>15</td>\n",
       "      <td>13.15</td>\n",
       "      <td>204.4</td>\n",
       "      <td>246.4</td>\n",
       "    </tr>\n",
       "    <tr>\n",
       "      <th>6</th>\n",
       "      <td>16</td>\n",
       "      <td>14.15</td>\n",
       "      <td>81.4</td>\n",
       "      <td>108.0</td>\n",
       "    </tr>\n",
       "    <tr>\n",
       "      <th>7</th>\n",
       "      <td>17</td>\n",
       "      <td>15.15</td>\n",
       "      <td>32.4</td>\n",
       "      <td>44.9</td>\n",
       "    </tr>\n",
       "    <tr>\n",
       "      <th>8</th>\n",
       "      <td>18</td>\n",
       "      <td>16.15</td>\n",
       "      <td>12.9</td>\n",
       "      <td>18.2</td>\n",
       "    </tr>\n",
       "    <tr>\n",
       "      <th>9</th>\n",
       "      <td>19</td>\n",
       "      <td>17.15</td>\n",
       "      <td>5.1</td>\n",
       "      <td>7.3</td>\n",
       "    </tr>\n",
       "    <tr>\n",
       "      <th>10</th>\n",
       "      <td>20</td>\n",
       "      <td>18.15</td>\n",
       "      <td>2.0</td>\n",
       "      <td>2.9</td>\n",
       "    </tr>\n",
       "    <tr>\n",
       "      <th>11</th>\n",
       "      <td>21</td>\n",
       "      <td>19.15</td>\n",
       "      <td>0.8</td>\n",
       "      <td>1.2</td>\n",
       "    </tr>\n",
       "    <tr>\n",
       "      <th>12</th>\n",
       "      <td>22</td>\n",
       "      <td>20.15</td>\n",
       "      <td>0.3</td>\n",
       "      <td>0.5</td>\n",
       "    </tr>\n",
       "    <tr>\n",
       "      <th>13</th>\n",
       "      <td>23</td>\n",
       "      <td>21.15</td>\n",
       "      <td>0.1</td>\n",
       "      <td>0.2</td>\n",
       "    </tr>\n",
       "  </tbody>\n",
       "</table>\n",
       "</div>"
      ],
      "text/plain": [
       "    AB_Magnitude  ~VegMag  Src count rate (e/s)     SNR\n",
       "0             10     8.15               20438.6  4519.9\n",
       "1             11     9.15                8136.8  2801.7\n",
       "2             12    10.15                3239.3  1695.1\n",
       "3             13    11.15                1289.6   975.4\n",
       "4             14    12.15                 513.4   516.0\n",
       "5             15    13.15                 204.4   246.4\n",
       "6             16    14.15                  81.4   108.0\n",
       "7             17    15.15                  32.4    44.9\n",
       "8             18    16.15                  12.9    18.2\n",
       "9             19    17.15                   5.1     7.3\n",
       "10            20    18.15                   2.0     2.9\n",
       "11            21    19.15                   0.8     1.2\n",
       "12            22    20.15                   0.3     0.5\n",
       "13            23    21.15                   0.1     0.2"
      ]
     },
     "execution_count": 4,
     "metadata": {},
     "output_type": "execute_result"
    }
   ],
   "source": [
    "print('Frame time: {} s'.format(plan.frame_time))\n",
    "print('Coadds: {}'.format(plan.coadds))\n",
    "print('Total integration time: {:.1f} min'.format(plan.exptime/60))\n",
    "print('Sky Rate: {:.1f} e/s/pix'.format(plan.calc_sky_noise()))\n",
    "\n",
    "df = pd.DataFrame({'AB_Magnitude': magrange,'~VegMag': magrange-1.85, 'Src count rate (e/s)': srcrate, 'SNR': snr})\n",
    "df['Src count rate (e/s)'] = df['Src count rate (e/s)'].round(1)\n",
    "df['SNR'] = df['SNR'].round(1)\n",
    "df"
   ]
  },
  {
   "cell_type": "markdown",
   "id": "d1010a65",
   "metadata": {},
   "source": [
    "Otherwise, use the data files to integrate over expected sky transmission, sky brightness, H2RG QE, and filter transmission curves. This mode also includes noise from the thermal self emission from the first corrector lens (the window).   "
   ]
  },
  {
   "cell_type": "code",
   "execution_count": 5,
   "id": "3e81b187",
   "metadata": {},
   "outputs": [
    {
     "data": {
      "image/png": "[encoded data removed]",
      "text/plain": [
       "<Figure size 432x288 with 1 Axes>"
      ]
     },
     "metadata": {
      "needs_background": "light"
     },
     "output_type": "display_data"
    }
   ],
   "source": [
    "plan = PlanExposure(paramfile=filename,integrate=True)\n",
    "srcrate, snr = plan.plot_snr(magrange)\n",
    "plt.gca()\n",
    "plt.yscale('linear')"
   ]
  },
  {
   "cell_type": "code",
   "execution_count": 6,
   "id": "7f6fd29e",
   "metadata": {},
   "outputs": [
    {
     "name": "stdout",
     "output_type": "stream",
     "text": [
      "Frame time: 2.0 s\n",
      "Coadds: 512.0\n",
      "Total integration time: 17.1 min\n",
      "Sky Rate: 209.7 e/s/pix\n"
     ]
    },
    {
     "data": {
      "text/html": [
       "<div>\n",
       "<style scoped>\n",
       "    .dataframe tbody tr th:only-of-type {\n",
       "        vertical-align: middle;\n",
       "    }\n",
       "\n",
       "    .dataframe tbody tr th {\n",
       "        vertical-align: top;\n",
       "    }\n",
       "\n",
       "    .dataframe thead th {\n",
       "        text-align: right;\n",
       "    }\n",
       "</style>\n",
       "<table border=\"1\" class=\"dataframe\">\n",
       "  <thead>\n",
       "    <tr style=\"text-align: right;\">\n",
       "      <th></th>\n",
       "      <th>AB_Magnitude</th>\n",
       "      <th>~VegMag</th>\n",
       "      <th>Src count rate (e/s)</th>\n",
       "      <th>SNR</th>\n",
       "    </tr>\n",
       "  </thead>\n",
       "  <tbody>\n",
       "    <tr>\n",
       "      <th>0</th>\n",
       "      <td>10</td>\n",
       "      <td>8.15</td>\n",
       "      <td>14580.0</td>\n",
       "      <td>3815.2</td>\n",
       "    </tr>\n",
       "    <tr>\n",
       "      <th>1</th>\n",
       "      <td>11</td>\n",
       "      <td>9.15</td>\n",
       "      <td>5804.4</td>\n",
       "      <td>2362.9</td>\n",
       "    </tr>\n",
       "    <tr>\n",
       "      <th>2</th>\n",
       "      <td>12</td>\n",
       "      <td>10.15</td>\n",
       "      <td>2310.8</td>\n",
       "      <td>1426.8</td>\n",
       "    </tr>\n",
       "    <tr>\n",
       "      <th>3</th>\n",
       "      <td>13</td>\n",
       "      <td>11.15</td>\n",
       "      <td>919.9</td>\n",
       "      <td>818.1</td>\n",
       "    </tr>\n",
       "    <tr>\n",
       "      <th>4</th>\n",
       "      <td>14</td>\n",
       "      <td>12.15</td>\n",
       "      <td>366.2</td>\n",
       "      <td>430.5</td>\n",
       "    </tr>\n",
       "    <tr>\n",
       "      <th>5</th>\n",
       "      <td>15</td>\n",
       "      <td>13.15</td>\n",
       "      <td>145.8</td>\n",
       "      <td>204.5</td>\n",
       "    </tr>\n",
       "    <tr>\n",
       "      <th>6</th>\n",
       "      <td>16</td>\n",
       "      <td>14.15</td>\n",
       "      <td>58.0</td>\n",
       "      <td>89.3</td>\n",
       "    </tr>\n",
       "    <tr>\n",
       "      <th>7</th>\n",
       "      <td>17</td>\n",
       "      <td>15.15</td>\n",
       "      <td>23.1</td>\n",
       "      <td>37.1</td>\n",
       "    </tr>\n",
       "    <tr>\n",
       "      <th>8</th>\n",
       "      <td>18</td>\n",
       "      <td>16.15</td>\n",
       "      <td>9.2</td>\n",
       "      <td>15.0</td>\n",
       "    </tr>\n",
       "    <tr>\n",
       "      <th>9</th>\n",
       "      <td>19</td>\n",
       "      <td>17.15</td>\n",
       "      <td>3.7</td>\n",
       "      <td>6.0</td>\n",
       "    </tr>\n",
       "    <tr>\n",
       "      <th>10</th>\n",
       "      <td>20</td>\n",
       "      <td>18.15</td>\n",
       "      <td>1.5</td>\n",
       "      <td>2.4</td>\n",
       "    </tr>\n",
       "    <tr>\n",
       "      <th>11</th>\n",
       "      <td>21</td>\n",
       "      <td>19.15</td>\n",
       "      <td>0.6</td>\n",
       "      <td>1.0</td>\n",
       "    </tr>\n",
       "    <tr>\n",
       "      <th>12</th>\n",
       "      <td>22</td>\n",
       "      <td>20.15</td>\n",
       "      <td>0.2</td>\n",
       "      <td>0.4</td>\n",
       "    </tr>\n",
       "    <tr>\n",
       "      <th>13</th>\n",
       "      <td>23</td>\n",
       "      <td>21.15</td>\n",
       "      <td>0.1</td>\n",
       "      <td>0.2</td>\n",
       "    </tr>\n",
       "  </tbody>\n",
       "</table>\n",
       "</div>"
      ],
      "text/plain": [
       "    AB_Magnitude  ~VegMag  Src count rate (e/s)     SNR\n",
       "0             10     8.15               14580.0  3815.2\n",
       "1             11     9.15                5804.4  2362.9\n",
       "2             12    10.15                2310.8  1426.8\n",
       "3             13    11.15                 919.9   818.1\n",
       "4             14    12.15                 366.2   430.5\n",
       "5             15    13.15                 145.8   204.5\n",
       "6             16    14.15                  58.0    89.3\n",
       "7             17    15.15                  23.1    37.1\n",
       "8             18    16.15                   9.2    15.0\n",
       "9             19    17.15                   3.7     6.0\n",
       "10            20    18.15                   1.5     2.4\n",
       "11            21    19.15                   0.6     1.0\n",
       "12            22    20.15                   0.2     0.4\n",
       "13            23    21.15                   0.1     0.2"
      ]
     },
     "execution_count": 6,
     "metadata": {},
     "output_type": "execute_result"
    }
   ],
   "source": [
    "print('Frame time: {} s'.format(plan.frame_time))\n",
    "print('Coadds: {}'.format(plan.coadds))\n",
    "print('Total integration time: {:.1f} min'.format(plan.exptime/60))\n",
    "print('Sky Rate: {:.1f} e/s/pix'.format(plan.calc_sky_noise()))\n",
    "\n",
    "df = pd.DataFrame({'AB_Magnitude': magrange,'~VegMag': magrange-1.85, 'Src count rate (e/s)': srcrate, 'SNR': snr})\n",
    "df['Src count rate (e/s)'] = df['Src count rate (e/s)'].round(1)\n",
    "df['SNR'] = df['SNR'].round(1)\n",
    "df"
   ]
  },
  {
   "cell_type": "code",
   "execution_count": 7,
   "id": "08342126",
   "metadata": {},
   "outputs": [
    {
     "data": {
      "image/png": "[encoded data removed]",
      "text/plain": [
       "<Figure size 432x288 with 1 Axes>"
      ]
     },
     "metadata": {
      "needs_background": "light"
     },
     "output_type": "display_data"
    }
   ],
   "source": [
    "# Plot exposure time needed to reach a given SNR \n",
    "times = plan.plot_exptime(magrange,snr_desired=10)"
   ]
  },
  {
   "cell_type": "markdown",
   "id": "a7715ee1",
   "metadata": {},
   "source": [
    "You can also specify parameters directly in this notebook."
   ]
  },
  {
   "cell_type": "code",
   "execution_count": 8,
   "id": "62095d92",
   "metadata": {},
   "outputs": [],
   "source": [
    "#Telescope properties/detector characteristics\n",
    "coadds = 1800\n",
    "frame_time = 2 #[s]\n",
    "avg_skyBrightness = 1.20E-04 #K-dark Dome C estimate, [Jy arcsec^-2] (relevant only if skyBrightness_file not defined)\n",
    "focal_length = 0.525 #[m]\n",
    "read_noise = 15 #[e]\n",
    "dark_current = 50 #[e/s]\n",
    "pixel_size = 1.80E-05 #[m]\n",
    "beam_obstruction = 8.0E-3 #[m^2] (Area of detector housing + spider vanes in the FOV)\n",
    "avg_qe = 0.9 #(relevant only if qeData not defined)\n",
    "aperture_diameter = 0.26 #[m]\n",
    "\n",
    "#Throughputs\n",
    "avg_skyTransmission = 0.95 #(relevant only if skyTransmission_file not defined)\n",
    "avg_filterTransmission = 0.98 #(relevant only if filterTransmission_file not defined )\n",
    "transmission_loss = 0.005 #Transmission loss per surface\n",
    "num_tlosses = 4 #Number of transmission losses\n",
    "reflection_loss = 0.04 # Loss per reflection\n",
    "num_rlosses = 1 #Number of reflections\n",
    "\n",
    "#K-dark observing\n",
    "central_wavelength = 2.38e-06 #[m] (relevant only if filterTransmission_file not defined)\n",
    "passband = 2.26e-07 #[m] (relevant only if filterTransmission_file not defined)\n",
    "ambientTemp = -80 #Window temperature [C]\n",
    "\n",
    "#Relevant parameters for integrating over spectral profiles (rather than using an estimate for an average value)\n",
    "skyBrightness_file = 'data_files/ashley_sky.csv' #Sky brightness spectrum\n",
    "skyTransmission_file = 'data_files/ashley_skytrans.csv' #Sky transmission spectrum\n",
    "qe_file = 'data_files/H2RG_qedata.csv' #QE spectrum\n",
    "filterTransmission_file = 'data_files/Asahi_Kdark.csv' #Filter transmission spectrum\n",
    "\n",
    "parameters = np.array([coadds,frame_time,avg_skyBrightness,focal_length,read_noise,\n",
    "                       dark_current,pixel_size,beam_obstruction,avg_qe,aperture_diameter,avg_skyTransmission,\n",
    "                       avg_filterTransmission,transmission_loss,num_tlosses,reflection_loss,num_rlosses,\n",
    "                       central_wavelength,passband,ambientTemp,skyBrightness_file,skyTransmission_file,\n",
    "                       qe_file,filterTransmission_file])"
   ]
  },
  {
   "cell_type": "code",
   "execution_count": 9,
   "id": "8eda9fbc",
   "metadata": {},
   "outputs": [],
   "source": [
    "plan = PlanExposure(param_arr=parameters,integrate=True)"
   ]
  },
  {
   "cell_type": "code",
   "execution_count": 10,
   "id": "da8aab94",
   "metadata": {},
   "outputs": [
    {
     "data": {
      "image/png": "[encoded data removed]",
      "text/plain": [
       "<Figure size 432x288 with 1 Axes>"
      ]
     },
     "metadata": {
      "needs_background": "light"
     },
     "output_type": "display_data"
    }
   ],
   "source": [
    "# Plot exposure time needed to reach a given SNR \n",
    "times = plan.plot_exptime(np.linspace(12,22,10000),snr_desired=5)\n",
    "plt.axhline(15*60, label='15 min exposure, SNR=5',ls='--',color='r')\n",
    "plt.legend()\n",
    "plt.show()"
   ]
  },
  {
   "cell_type": "markdown",
   "id": "d4152295",
   "metadata": {},
   "source": [
    "For full scale system, "
   ]
  },
  {
   "cell_type": "code",
   "execution_count": 11,
   "id": "20e0f2a8",
   "metadata": {},
   "outputs": [
    {
     "data": {
      "image/png": "[encoded data removed]",
      "text/plain": [
       "<Figure size 432x288 with 1 Axes>"
      ]
     },
     "metadata": {
      "needs_background": "light"
     },
     "output_type": "display_data"
    }
   ],
   "source": [
    "plan = PlanExposure(paramfile='fullscale_params.txt',integrate=True)\n",
    "times = plan.plot_exptime(np.linspace(12,25,10000),snr_desired=5)\n",
    "plt.axhline(15*60, label='15 min exposure, SNR=5',ls='--',color='r')\n",
    "plt.legend()\n",
    "plt.show()"
   ]
  },
  {
   "cell_type": "code",
   "execution_count": null,
   "id": "3c3e28ae",
   "metadata": {},
   "outputs": [],
   "source": []
  }
 ],
 "metadata": {
  "kernelspec": {
   "display_name": "Python 3 (ipykernel)",
   "language": "python",
   "name": "python3"
  },
  "language_info": {
   "codemirror_mode": {
    "name": "ipython",
    "version": 3
   },
   "file_extension": ".py",
   "mimetype": "text/x-python",
   "name": "python",
   "nbconvert_exporter": "python",
   "pygments_lexer": "ipython3",
   "version": "3.9.12"
  }
 },
 "nbformat": 4,
 "nbformat_minor": 5
}
