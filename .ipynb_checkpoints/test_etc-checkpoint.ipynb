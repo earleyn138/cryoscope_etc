{
 "cells": [
  {
   "cell_type": "code",
   "execution_count": 1,
   "id": "dd6f59b8",
   "metadata": {},
   "outputs": [],
   "source": [
    "from etc import PlanExposure\n",
    "import numpy as np\n",
    "import matplotlib.pyplot as plt"
   ]
  },
  {
   "cell_type": "code",
   "execution_count": 2,
   "id": "8d63a0b6",
   "metadata": {},
   "outputs": [
    {
     "data": {
      "image/png": "[encoded data removed]",
      "text/plain": [
       "<Figure size 432x288 with 1 Axes>"
      ]
     },
     "metadata": {
      "needs_background": "light"
     },
     "output_type": "display_data"
    }
   ],
   "source": [
    "filename = \"./etc_param.txt\"\n",
    "magrange=np.arange(10,21)\n",
    "plan = PlanExposure(filename)\n",
    "magrange, srcrate, snr = plan.plot_snr(magrange)"
   ]
  },
  {
   "cell_type": "code",
   "execution_count": 5,
   "id": "933b4ad2",
   "metadata": {},
   "outputs": [],
   "source": [
    "import pandas as pd"
   ]
  },
  {
   "cell_type": "code",
   "execution_count": 22,
   "id": "7f6fd29e",
   "metadata": {},
   "outputs": [
    {
     "name": "stdout",
     "output_type": "stream",
     "text": [
      "    Magnitude  Src count rate (e/s)     SNR\n",
      "0          10               22119.5  2566.2\n",
      "1          11                8844.8  1613.5\n",
      "2          12                3536.7  1006.2\n",
      "3          13                1414.2   615.4\n",
      "4          14                 565.5   361.2\n",
      "5          15                 226.1   196.8\n",
      "6          16                  90.4    97.1\n",
      "7          17                  36.2    43.6\n",
      "8          18                  14.5    18.4\n",
      "9          19                   5.8     7.6\n",
      "10         20                   2.3     3.1\n"
     ]
    }
   ],
   "source": [
    "df = pd.DataFrame({'Magnitude': magrange, 'Src count rate (e/s)': srcrate, 'SNR': snr})\n",
    "df = df.reset_index(drop=True)\n",
    "\n",
    "df['Src count rate (e/s)'] = df['Src count rate (e/s)'].round(1)\n",
    "df['SNR'] = df['SNR'].round(1)\n",
    "print(df)"
   ]
  },
  {
   "cell_type": "code",
   "execution_count": 4,
   "id": "5f18fb51",
   "metadata": {},
   "outputs": [],
   "source": [
    "# Saving parameter files\n",
    "\n",
    "# # Example data with values and corresponding labels\n",
    "# parameters = np.array([1,300,1.20E-04,0.9,\n",
    "#                    15,50,1.80E-05,2048,\n",
    "#                    0.9,0.26,0.95,0.98,\n",
    "#                    5.00E-03,4,4.00E-02,\n",
    "#                    1,2.38E-06,2.26E-07])\n",
    "\n",
    "# labels = np.array(['Coadds','Frame Time [s]','Sky Brightness [Jy]','Focal Length [m]',\n",
    "#                    'Read Noise [e/s]','Dark Current [e/s]','Pixel Size [m]', 'Num of pixels on edge',\n",
    "#                    'Quantum efficiency','Aperture diameter [m]','Average sky transmission','Filter throughpout',\n",
    "#                    'Transmission loss per surface','Number of transmission losses','Loss per rfelction','Number of reflections',\n",
    "#                    'Central wavelength [m]','Passband [m]'])\n",
    "\n",
    "# # Combine values and labels into a structured array\n",
    "# paramfile = np.rec.fromarrays([parameters, labels], names=('Value', 'Label'))\n",
    "\n",
    "# # Save the structured array to a file\n",
    "# #np.savetxt(filename, paramfile, fmt='%s', delimiter='\\t')\n",
    "# #print(\"File saved successfully.\")"
   ]
  },
  {
   "cell_type": "code",
   "execution_count": null,
   "id": "b274d7ce",
   "metadata": {},
   "outputs": [],
   "source": []
  }
 ],
 "metadata": {
  "kernelspec": {
   "display_name": "Python 3 (ipykernel)",
   "language": "python",
   "name": "python3"
  },
  "language_info": {
   "codemirror_mode": {
    "name": "ipython",
    "version": 3
   },
   "file_extension": ".py",
   "mimetype": "text/x-python",
   "name": "python",
   "nbconvert_exporter": "python",
   "pygments_lexer": "ipython3",
   "version": "3.9.12"
  }
 },
 "nbformat": 4,
 "nbformat_minor": 5
}
