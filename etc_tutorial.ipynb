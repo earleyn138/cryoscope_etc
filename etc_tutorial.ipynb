{
 "cells": [
  {
   "cell_type": "code",
   "execution_count": 1,
   "id": "dd6f59b8",
   "metadata": {
    "ExecuteTime": {
     "end_time": "2024-05-11T18:17:21.691016Z",
     "start_time": "2024-05-11T18:17:20.326431Z"
    }
   },
   "outputs": [],
   "source": [
    "import numpy as np\n",
    "import pandas as pd\n",
    "import matplotlib.pyplot as plt\n",
    "from etc import PlanExposure"
   ]
  },
  {
   "cell_type": "markdown",
   "id": "2b508dc3",
   "metadata": {},
   "source": [
    "This notebook is an introduction to the python version of the exposure time calculator (ETC) for the Cryoscope Pathfinder mission and eventual full scale 1m Crysocope. If you'd prefer not work in python, an Excel version of the ETC is also provided on the main github page which provides rough estimates of SNR as a function of integration time for given magnitudes. The python version presented here is able to replicate those results and provide more involved treatments.  \n",
    "\n",
    "The ETC will be continuously updated and refined throughout the project. "
   ]
  },
  {
   "cell_type": "code",
   "execution_count": 2,
   "id": "827a51a2",
   "metadata": {
    "ExecuteTime": {
     "end_time": "2024-05-11T18:17:21.696058Z",
     "start_time": "2024-05-11T18:17:21.691219Z"
    }
   },
   "outputs": [],
   "source": [
    "# Function to show results in the tutorial.\n",
    "def show_snr(plan,snr_results):\n",
    "    # Presenting some outputs in a table\n",
    "    print('Frame time: {} s'.format(plan.frame_time))\n",
    "    print('Coadds: {}'.format(n))\n",
    "    print('Total integration time: {:.1f} min'.format(plan.frame_time*n/60))\n",
    "    print('Sky Rate: {:.1f} e/s/pix'.format(plan.calc_sky_rate()))\n",
    "\n",
    "    df = pd.DataFrame({'AB_Magnitude': magrange,\n",
    "                       '~VegMag': magrange-1.85, #This conversion to Vega Mag is not exact, the correction is for Ks not Kdark\n",
    "                       'Src count rate (e/s)': snr_results['source_rate'], \n",
    "                       'SNR': snr_results['snr_total']})\n",
    "\n",
    "    df['Src count rate (e/s)'] = df['Src count rate (e/s)'].round(1)\n",
    "    df['SNR'] = df['SNR'].round(1)\n",
    "    \n",
    "    return df"
   ]
  },
  {
   "cell_type": "markdown",
   "id": "94ee9db0",
   "metadata": {},
   "source": [
    "Cryoscope's exposure time calculator is accessed via a python class PlanExposure. The code is contained in the etc.py file. This allows you to calculate the SNR for a defined exposure of a point source or to determine the minimum integration times needed to reach a desired SNR for certain K-dark AB magnitudes."
   ]
  },
  {
   "cell_type": "markdown",
   "id": "ee78c559",
   "metadata": {},
   "source": [
    "The simplest way of using the code is to initialize an object using the parameters specified in the parameter files provided for the prototype (Cryoscope Pathfinder) or the full scale system (1m Cryoscope). "
   ]
  },
  {
   "cell_type": "code",
   "execution_count": 3,
   "id": "8d63a0b6",
   "metadata": {
    "ExecuteTime": {
     "end_time": "2024-05-11T18:17:21.699881Z",
     "start_time": "2024-05-11T18:17:21.694587Z"
    }
   },
   "outputs": [],
   "source": [
    "# Specify parameters in an input parameter file\n",
    "filename = \"prototype_params.txt\" #This file is relevant for the Cryoscope Pathfinder mission\n",
    "\n",
    "simple_plan = PlanExposure(param_file=filename,integrate=False)\n"
   ]
  },
  {
   "cell_type": "markdown",
   "id": "fd690f07",
   "metadata": {},
   "source": [
    "To just use estimated values for some parameters including sky brightness and QE, set ``integrate`` to False. This will generate results equivalent to the Excel spreadsheet. Otherwise, by default ``integrate=True``. "
   ]
  },
  {
   "cell_type": "markdown",
   "id": "6e317982",
   "metadata": {},
   "source": [
    "The main functions within the class you will call are ``calc_snr`` and ``calc_time`` "
   ]
  },
  {
   "cell_type": "markdown",
   "id": "1bafe27e",
   "metadata": {},
   "source": [
    "To see how SNR depends on a range of magnitudes for a given exposure, use ``calc_snr``.\n",
    "Set the desired number of coadds. Total integration time = coadds $\\times$ frame time. The frame time is defined in the parameter file. By default it is 2 seconds."
   ]
  },
  {
   "cell_type": "code",
   "execution_count": 4,
   "id": "e3c7d0b5",
   "metadata": {
    "ExecuteTime": {
     "end_time": "2024-05-11T18:17:24.998594Z",
     "start_time": "2024-05-11T18:17:24.667602Z"
    }
   },
   "outputs": [
    {
     "data": {
      "image/png": "[encoded data removed]",
      "text/plain": [
       "<Figure size 432x288 with 1 Axes>"
      ]
     },
     "metadata": {
      "needs_background": "light"
     },
     "output_type": "display_data"
    }
   ],
   "source": [
    "magrange = np.arange(10,25) #The ETC assumes AB magnitudes in K-dark are provided\n",
    "n = 512 # Number of coadds\n",
    "\n",
    "simple_info = simple_plan.calc_snr(ab_mag=magrange,coadds=n,plot=True)"
   ]
  },
  {
   "cell_type": "markdown",
   "id": "d3be4a5e",
   "metadata": {},
   "source": [
    "The output of the ``calc_snr`` is a dictionary containing \n",
    "* **source_rate**: the source rate in electrons/sec for each magnitude provided\n",
    "* **sky_rate**: the sky background rate in electrons/sec\n",
    "* **tse_rate**: the thermal self emission rate in electrons/sec. This is from blackbody emission from the window that must be kept at ambient to avoid frosting up. It is set to zero for simplest estimates since sky background and detector noise dominate. For now this is only calculated for the Pathfinder.\n",
    "* **detector_counts**: total number of electrons contributed by read noise and detector dark current. \n",
    "* **snr_frame**: the SNR for a single frame for each source. The frame time is 2 second by default in the parameter files.\n",
    "* **snr_total**: the total integrated SNR after coadding for each source\n",
    "\n",
    "For now, because Cryoscope is diffraction limited, the PSF will be undersampled and the number of pixels in the aperture of interest is 1. So each value is also per pixel. "
   ]
  },
  {
   "cell_type": "code",
   "execution_count": 5,
   "id": "b419f0b4",
   "metadata": {
    "ExecuteTime": {
     "end_time": "2024-05-11T18:17:25.419502Z",
     "start_time": "2024-05-11T18:17:25.412081Z"
    }
   },
   "outputs": [
    {
     "data": {
      "text/plain": [
       "{'source_rate': array([2.04386082e+04, 8.13675650e+03, 3.23930111e+03, 1.28958900e+03,\n",
       "        5.13394627e+02, 2.04386082e+02, 8.13675650e+01, 3.23930111e+01,\n",
       "        1.28958900e+01, 5.13394627e+00, 2.04386082e+00, 8.13675650e-01,\n",
       "        3.23930111e-01, 1.28958900e-01, 5.13394627e-02]),\n",
       " 'sky_rate': 337.8187902140413,\n",
       " 'tse_rate': 0,\n",
       " 'detector_counts': 225.2,\n",
       " 'snr_frame': array([1.99989508e+02, 1.24176997e+02, 7.54170635e+01, 4.37210639e+01,\n",
       "        2.33867479e+01, 1.12956276e+01, 4.98996756e+00, 2.08486231e+00,\n",
       "        8.47282598e-01, 3.40170766e-01, 1.35886073e-01, 5.41709121e-02,\n",
       "        2.15775413e-02, 8.59203238e-03, 3.42084438e-03]),\n",
       " 'snr_total': array([4.52524599e+03, 2.80980469e+03, 1.70649334e+03, 9.89294744e+02,\n",
       "        5.29181696e+02, 2.55590876e+02, 1.12910077e+02, 4.71750489e+01,\n",
       "        1.91718167e+01, 7.69718576e+00, 3.07475085e+00, 1.22574782e+00,\n",
       "        4.88244025e-01, 1.94415500e-01, 7.74048723e-02])}"
      ]
     },
     "execution_count": 5,
     "metadata": {},
     "output_type": "execute_result"
    }
   ],
   "source": [
    "simple_info"
   ]
  },
  {
   "cell_type": "code",
   "execution_count": 6,
   "id": "5bf8ac06",
   "metadata": {
    "ExecuteTime": {
     "end_time": "2024-05-11T18:17:25.798461Z",
     "start_time": "2024-05-11T18:17:25.786075Z"
    }
   },
   "outputs": [
    {
     "name": "stdout",
     "output_type": "stream",
     "text": [
      "Frame time: 2.0 s\n",
      "Coadds: 512\n",
      "Total integration time: 17.1 min\n",
      "Sky Rate: 337.8 e/s/pix\n"
     ]
    },
    {
     "data": {
      "text/html": [
       "<div>\n",
       "<style scoped>\n",
       "    .dataframe tbody tr th:only-of-type {\n",
       "        vertical-align: middle;\n",
       "    }\n",
       "\n",
       "    .dataframe tbody tr th {\n",
       "        vertical-align: top;\n",
       "    }\n",
       "\n",
       "    .dataframe thead th {\n",
       "        text-align: right;\n",
       "    }\n",
       "</style>\n",
       "<table border=\"1\" class=\"dataframe\">\n",
       "  <thead>\n",
       "    <tr style=\"text-align: right;\">\n",
       "      <th></th>\n",
       "      <th>AB_Magnitude</th>\n",
       "      <th>~VegMag</th>\n",
       "      <th>Src count rate (e/s)</th>\n",
       "      <th>SNR</th>\n",
       "    </tr>\n",
       "  </thead>\n",
       "  <tbody>\n",
       "    <tr>\n",
       "      <th>0</th>\n",
       "      <td>10</td>\n",
       "      <td>8.15</td>\n",
       "      <td>20438.6</td>\n",
       "      <td>4525.2</td>\n",
       "    </tr>\n",
       "    <tr>\n",
       "      <th>1</th>\n",
       "      <td>11</td>\n",
       "      <td>9.15</td>\n",
       "      <td>8136.8</td>\n",
       "      <td>2809.8</td>\n",
       "    </tr>\n",
       "    <tr>\n",
       "      <th>2</th>\n",
       "      <td>12</td>\n",
       "      <td>10.15</td>\n",
       "      <td>3239.3</td>\n",
       "      <td>1706.5</td>\n",
       "    </tr>\n",
       "    <tr>\n",
       "      <th>3</th>\n",
       "      <td>13</td>\n",
       "      <td>11.15</td>\n",
       "      <td>1289.6</td>\n",
       "      <td>989.3</td>\n",
       "    </tr>\n",
       "    <tr>\n",
       "      <th>4</th>\n",
       "      <td>14</td>\n",
       "      <td>12.15</td>\n",
       "      <td>513.4</td>\n",
       "      <td>529.2</td>\n",
       "    </tr>\n",
       "    <tr>\n",
       "      <th>5</th>\n",
       "      <td>15</td>\n",
       "      <td>13.15</td>\n",
       "      <td>204.4</td>\n",
       "      <td>255.6</td>\n",
       "    </tr>\n",
       "    <tr>\n",
       "      <th>6</th>\n",
       "      <td>16</td>\n",
       "      <td>14.15</td>\n",
       "      <td>81.4</td>\n",
       "      <td>112.9</td>\n",
       "    </tr>\n",
       "    <tr>\n",
       "      <th>7</th>\n",
       "      <td>17</td>\n",
       "      <td>15.15</td>\n",
       "      <td>32.4</td>\n",
       "      <td>47.2</td>\n",
       "    </tr>\n",
       "    <tr>\n",
       "      <th>8</th>\n",
       "      <td>18</td>\n",
       "      <td>16.15</td>\n",
       "      <td>12.9</td>\n",
       "      <td>19.2</td>\n",
       "    </tr>\n",
       "    <tr>\n",
       "      <th>9</th>\n",
       "      <td>19</td>\n",
       "      <td>17.15</td>\n",
       "      <td>5.1</td>\n",
       "      <td>7.7</td>\n",
       "    </tr>\n",
       "    <tr>\n",
       "      <th>10</th>\n",
       "      <td>20</td>\n",
       "      <td>18.15</td>\n",
       "      <td>2.0</td>\n",
       "      <td>3.1</td>\n",
       "    </tr>\n",
       "    <tr>\n",
       "      <th>11</th>\n",
       "      <td>21</td>\n",
       "      <td>19.15</td>\n",
       "      <td>0.8</td>\n",
       "      <td>1.2</td>\n",
       "    </tr>\n",
       "    <tr>\n",
       "      <th>12</th>\n",
       "      <td>22</td>\n",
       "      <td>20.15</td>\n",
       "      <td>0.3</td>\n",
       "      <td>0.5</td>\n",
       "    </tr>\n",
       "    <tr>\n",
       "      <th>13</th>\n",
       "      <td>23</td>\n",
       "      <td>21.15</td>\n",
       "      <td>0.1</td>\n",
       "      <td>0.2</td>\n",
       "    </tr>\n",
       "    <tr>\n",
       "      <th>14</th>\n",
       "      <td>24</td>\n",
       "      <td>22.15</td>\n",
       "      <td>0.1</td>\n",
       "      <td>0.1</td>\n",
       "    </tr>\n",
       "  </tbody>\n",
       "</table>\n",
       "</div>"
      ],
      "text/plain": [
       "    AB_Magnitude  ~VegMag  Src count rate (e/s)     SNR\n",
       "0             10     8.15               20438.6  4525.2\n",
       "1             11     9.15                8136.8  2809.8\n",
       "2             12    10.15                3239.3  1706.5\n",
       "3             13    11.15                1289.6   989.3\n",
       "4             14    12.15                 513.4   529.2\n",
       "5             15    13.15                 204.4   255.6\n",
       "6             16    14.15                  81.4   112.9\n",
       "7             17    15.15                  32.4    47.2\n",
       "8             18    16.15                  12.9    19.2\n",
       "9             19    17.15                   5.1     7.7\n",
       "10            20    18.15                   2.0     3.1\n",
       "11            21    19.15                   0.8     1.2\n",
       "12            22    20.15                   0.3     0.5\n",
       "13            23    21.15                   0.1     0.2\n",
       "14            24    22.15                   0.1     0.1"
      ]
     },
     "execution_count": 6,
     "metadata": {},
     "output_type": "execute_result"
    }
   ],
   "source": [
    "show_snr(simple_plan,simple_info) # Just a way to show some of the results from the calculation."
   ]
  },
  {
   "cell_type": "markdown",
   "id": "d1010a65",
   "metadata": {},
   "source": [
    "Otherwise, for more involved estimates, set ``integrate`` to True. This uses the data files to integrate over conservative estimates for the near-infrared sky transmission and sky brightness spectra (from Ashley et al, these are from the South Pole and thus the conservative bounds to Dome C expectations until we get on-sky), the H2RG QE curve, and the latest Asahi K-dark filter transmission curve. Make sure the paths to each file are correctly set in the parameter files.\n",
    "\n",
    "This mode also includes noise from the thermal self emission from the first corrector lens (the window).   "
   ]
  },
  {
   "cell_type": "code",
   "execution_count": 7,
   "id": "3e81b187",
   "metadata": {
    "ExecuteTime": {
     "end_time": "2024-05-11T18:17:35.474980Z",
     "start_time": "2024-05-11T18:17:35.468045Z"
    }
   },
   "outputs": [],
   "source": [
    "plan = PlanExposure(param_file=filename,integrate=True)\n",
    "obs_info = plan.calc_snr(ab_mag=magrange,coadds=n)"
   ]
  },
  {
   "cell_type": "code",
   "execution_count": 8,
   "id": "7f6fd29e",
   "metadata": {
    "ExecuteTime": {
     "end_time": "2024-05-11T18:17:36.303483Z",
     "start_time": "2024-05-11T18:17:36.266571Z"
    }
   },
   "outputs": [
    {
     "name": "stdout",
     "output_type": "stream",
     "text": [
      "Frame time: 2.0 s\n",
      "Coadds: 512\n",
      "Total integration time: 17.1 min\n",
      "Sky Rate: 195.1 e/s/pix\n"
     ]
    },
    {
     "data": {
      "text/html": [
       "<div>\n",
       "<style scoped>\n",
       "    .dataframe tbody tr th:only-of-type {\n",
       "        vertical-align: middle;\n",
       "    }\n",
       "\n",
       "    .dataframe tbody tr th {\n",
       "        vertical-align: top;\n",
       "    }\n",
       "\n",
       "    .dataframe thead th {\n",
       "        text-align: right;\n",
       "    }\n",
       "</style>\n",
       "<table border=\"1\" class=\"dataframe\">\n",
       "  <thead>\n",
       "    <tr style=\"text-align: right;\">\n",
       "      <th></th>\n",
       "      <th>AB_Magnitude</th>\n",
       "      <th>~VegMag</th>\n",
       "      <th>Src count rate (e/s)</th>\n",
       "      <th>SNR</th>\n",
       "    </tr>\n",
       "  </thead>\n",
       "  <tbody>\n",
       "    <tr>\n",
       "      <th>0</th>\n",
       "      <td>10</td>\n",
       "      <td>8.15</td>\n",
       "      <td>13648.0</td>\n",
       "      <td>3696.5</td>\n",
       "    </tr>\n",
       "    <tr>\n",
       "      <th>1</th>\n",
       "      <td>11</td>\n",
       "      <td>9.15</td>\n",
       "      <td>5433.4</td>\n",
       "      <td>2294.0</td>\n",
       "    </tr>\n",
       "    <tr>\n",
       "      <th>2</th>\n",
       "      <td>12</td>\n",
       "      <td>10.15</td>\n",
       "      <td>2163.1</td>\n",
       "      <td>1391.6</td>\n",
       "    </tr>\n",
       "    <tr>\n",
       "      <th>3</th>\n",
       "      <td>13</td>\n",
       "      <td>11.15</td>\n",
       "      <td>861.1</td>\n",
       "      <td>804.8</td>\n",
       "    </tr>\n",
       "    <tr>\n",
       "      <th>4</th>\n",
       "      <td>14</td>\n",
       "      <td>12.15</td>\n",
       "      <td>342.8</td>\n",
       "      <td>429.0</td>\n",
       "    </tr>\n",
       "    <tr>\n",
       "      <th>5</th>\n",
       "      <td>15</td>\n",
       "      <td>13.15</td>\n",
       "      <td>136.5</td>\n",
       "      <td>206.4</td>\n",
       "    </tr>\n",
       "    <tr>\n",
       "      <th>6</th>\n",
       "      <td>16</td>\n",
       "      <td>14.15</td>\n",
       "      <td>54.3</td>\n",
       "      <td>90.9</td>\n",
       "    </tr>\n",
       "    <tr>\n",
       "      <th>7</th>\n",
       "      <td>17</td>\n",
       "      <td>15.15</td>\n",
       "      <td>21.6</td>\n",
       "      <td>37.9</td>\n",
       "    </tr>\n",
       "    <tr>\n",
       "      <th>8</th>\n",
       "      <td>18</td>\n",
       "      <td>16.15</td>\n",
       "      <td>8.6</td>\n",
       "      <td>15.4</td>\n",
       "    </tr>\n",
       "    <tr>\n",
       "      <th>9</th>\n",
       "      <td>19</td>\n",
       "      <td>17.15</td>\n",
       "      <td>3.4</td>\n",
       "      <td>6.2</td>\n",
       "    </tr>\n",
       "    <tr>\n",
       "      <th>10</th>\n",
       "      <td>20</td>\n",
       "      <td>18.15</td>\n",
       "      <td>1.4</td>\n",
       "      <td>2.5</td>\n",
       "    </tr>\n",
       "    <tr>\n",
       "      <th>11</th>\n",
       "      <td>21</td>\n",
       "      <td>19.15</td>\n",
       "      <td>0.5</td>\n",
       "      <td>1.0</td>\n",
       "    </tr>\n",
       "    <tr>\n",
       "      <th>12</th>\n",
       "      <td>22</td>\n",
       "      <td>20.15</td>\n",
       "      <td>0.2</td>\n",
       "      <td>0.4</td>\n",
       "    </tr>\n",
       "    <tr>\n",
       "      <th>13</th>\n",
       "      <td>23</td>\n",
       "      <td>21.15</td>\n",
       "      <td>0.1</td>\n",
       "      <td>0.2</td>\n",
       "    </tr>\n",
       "    <tr>\n",
       "      <th>14</th>\n",
       "      <td>24</td>\n",
       "      <td>22.15</td>\n",
       "      <td>0.0</td>\n",
       "      <td>0.1</td>\n",
       "    </tr>\n",
       "  </tbody>\n",
       "</table>\n",
       "</div>"
      ],
      "text/plain": [
       "    AB_Magnitude  ~VegMag  Src count rate (e/s)     SNR\n",
       "0             10     8.15               13648.0  3696.5\n",
       "1             11     9.15                5433.4  2294.0\n",
       "2             12    10.15                2163.1  1391.6\n",
       "3             13    11.15                 861.1   804.8\n",
       "4             14    12.15                 342.8   429.0\n",
       "5             15    13.15                 136.5   206.4\n",
       "6             16    14.15                  54.3    90.9\n",
       "7             17    15.15                  21.6    37.9\n",
       "8             18    16.15                   8.6    15.4\n",
       "9             19    17.15                   3.4     6.2\n",
       "10            20    18.15                   1.4     2.5\n",
       "11            21    19.15                   0.5     1.0\n",
       "12            22    20.15                   0.2     0.4\n",
       "13            23    21.15                   0.1     0.2\n",
       "14            24    22.15                   0.0     0.1"
      ]
     },
     "execution_count": 8,
     "metadata": {},
     "output_type": "execute_result"
    }
   ],
   "source": [
    "# Showing results after integrating over spectral data files\n",
    "# While the sky background is lower from the average estimates, the total SNR is \n",
    "# lower because of lower source count rates, a consequence of the transmission \n",
    "show_snr(plan,obs_info)"
   ]
  },
  {
   "cell_type": "code",
   "execution_count": 9,
   "id": "edb916d2",
   "metadata": {
    "ExecuteTime": {
     "end_time": "2024-05-11T18:17:35.913854Z",
     "start_time": "2024-05-11T18:17:35.661140Z"
    }
   },
   "outputs": [
    {
     "data": {
      "text/plain": [
       "Text(0.5, 0, 'K-dark AB Magnitude')"
      ]
     },
     "execution_count": 9,
     "metadata": {},
     "output_type": "execute_result"
    },
    {
     "data": {
      "image/png": "[encoded data removed]",
      "text/plain": [
       "<Figure size 432x288 with 1 Axes>"
      ]
     },
     "metadata": {
      "needs_background": "light"
     },
     "output_type": "display_data"
    }
   ],
   "source": [
    "# Comparing SNR predicted via the two different methods of integrating over spectral data or using the Excel sheet\n",
    "plt.plot(magrange,obs_info['snr_total'],label='Integrate=True')\n",
    "plt.plot(magrange,simple_info['snr_total'],label='Integrate=False (equivalent to Excel)')\n",
    "plt.legend()\n",
    "plt.yscale('log')\n",
    "plt.ylabel('SNR')\n",
    "plt.xlabel('K-dark AB Magnitude')"
   ]
  },
  {
   "cell_type": "markdown",
   "id": "16ee8339",
   "metadata": {},
   "source": [
    "Integrating over profiles provides a slightly more conservative SNR estimates for observations. This is primarily driven by the QE curve on hand. To see this, you can access relevant attributes of ``plan``. The list of all attributes can be found in etc.py"
   ]
  },
  {
   "cell_type": "code",
   "execution_count": 10,
   "id": "0e20e27c",
   "metadata": {},
   "outputs": [
    {
     "data": {
      "text/plain": [
       "<matplotlib.legend.Legend at 0x1580a6e20>"
      ]
     },
     "execution_count": 10,
     "metadata": {},
     "output_type": "execute_result"
    },
    {
     "data": {
      "image/png": "[encoded data removed]",
      "text/plain": [
       "<Figure size 432x288 with 1 Axes>"
      ]
     },
     "metadata": {
      "needs_background": "light"
     },
     "output_type": "display_data"
    }
   ],
   "source": [
    "plt.plot(plan.wavgrid, plan.qe_lambda, label='H2RG QE spectrum')\n",
    "plt.axhline(plan.avg_qe, color='red', ls='--',label='Average QE, provided in parameter file')\n",
    "plt.legend()"
   ]
  },
  {
   "cell_type": "code",
   "execution_count": 11,
   "id": "811f4ed6",
   "metadata": {},
   "outputs": [
    {
     "data": {
      "image/png": "[encoded data removed]",
      "text/plain": [
       "<Figure size 432x288 with 1 Axes>"
      ]
     },
     "metadata": {
      "needs_background": "light"
     },
     "output_type": "display_data"
    }
   ],
   "source": [
    "# Redefining QE at each wavelength to be the same as our simple estimate from before\n",
    "plan_newqe = PlanExposure(param_file=filename,integrate=True)\n",
    "plan_newqe.qe_lambda = plan_newqe.avg_qe\n",
    "\n",
    "# Recalculating SNR\n",
    "obs_info_newqe = plan_newqe.calc_snr(ab_mag=magrange,coadds=n)\n",
    "\n",
    "#Plotting\n",
    "plt.plot(magrange,obs_info_newqe['snr_total'],label='Integrate=True')\n",
    "plt.plot(magrange,simple_info['snr_total'],label='Integrate=False (equivalent to Excel)')\n",
    "plt.legend()\n",
    "plt.yscale('log')"
   ]
  },
  {
   "cell_type": "markdown",
   "id": "39c6bfa3",
   "metadata": {},
   "source": [
    "Feel free to make copies of the parameter files and change values as you see fit"
   ]
  },
  {
   "cell_type": "markdown",
   "id": "8e25ccdb",
   "metadata": {},
   "source": [
    "For determining minimum integration times needed to reach a given SNR for a range of magnitudes, use ``calc_times``"
   ]
  },
  {
   "cell_type": "code",
   "execution_count": 12,
   "id": "08342126",
   "metadata": {
    "ExecuteTime": {
     "end_time": "2024-02-21T23:19:05.100056Z",
     "start_time": "2024-02-21T23:19:04.658747Z"
    }
   },
   "outputs": [
    {
     "data": {
      "image/png": "[encoded data removed]",
      "text/plain": [
       "<Figure size 432x288 with 1 Axes>"
      ]
     },
     "metadata": {
      "needs_background": "light"
     },
     "output_type": "display_data"
    }
   ],
   "source": [
    "#Integration times needed to reach SNR=5 for the range of mags defined before.\n",
    "times = plan.calc_time(magrange,snr_desired=5,plot=True)  #Results from integrating over spectral data files"
   ]
  },
  {
   "cell_type": "code",
   "execution_count": 13,
   "id": "695f5788",
   "metadata": {},
   "outputs": [
    {
     "name": "stdout",
     "output_type": "stream",
     "text": [
      "19.2 mag source: 16.1 min integration\n"
     ]
    }
   ],
   "source": [
    "#You can also do this for single sources too: \n",
    "single_mag = 19.2\n",
    "time_sec = plan.calc_time(single_mag,snr_desired=5)\n",
    "\n",
    "print('{} mag source: {:.1f} min integration'.format(single_mag,time_sec/60))"
   ]
  },
  {
   "cell_type": "markdown",
   "id": "d4152295",
   "metadata": {},
   "source": [
    "For the full scale 1m Cryoscope: "
   ]
  },
  {
   "cell_type": "code",
   "execution_count": 14,
   "id": "20e0f2a8",
   "metadata": {
    "ExecuteTime": {
     "end_time": "2024-02-21T23:19:17.121016Z",
     "start_time": "2024-02-21T23:19:16.233328Z"
    }
   },
   "outputs": [
    {
     "data": {
      "image/png": "[encoded data removed]",
      "text/plain": [
       "<Figure size 432x288 with 1 Axes>"
      ]
     },
     "metadata": {
      "needs_background": "light"
     },
     "output_type": "display_data"
    }
   ],
   "source": [
    "plan_1m = PlanExposure(param_file='fullscale_params.txt',integrate=True)\n",
    "magrange_1m = np.linspace(12,25,10000)\n",
    "times_1m = plan_1m.calc_time(magrange_1m,snr_desired=5,plot=True)\n",
    "plt.axhline(15*60, label='15 min exposure, SNR=5',ls='--',color='r')\n",
    "plt.legend()\n",
    "plt.show()"
   ]
  },
  {
   "cell_type": "code",
   "execution_count": 20,
   "id": "6d48663a",
   "metadata": {},
   "outputs": [
    {
     "name": "stdout",
     "output_type": "stream",
     "text": [
      "15 min integration\n",
      "====================\n",
      "Pathfinder, 5 sigma limiting depth: 19.1\n",
      "Full scale, 5 sigma limiting depth: 22.5\n",
      "\n",
      "1 hr integration\n",
      "====================\n",
      "Pathfinder, 5 sigma limiting depth: 19.8\n",
      "Full scale, 5 sigma limiting depth: 23.2\n"
     ]
    }
   ],
   "source": [
    "print('15 min integration')\n",
    "print('='*20)\n",
    "print('Pathfinder, 5 sigma limiting depth: {:.1f}'.format(np.interp(20, times, magrange)))\n",
    "print('Full scale, 5 sigma limiting depth: {:.1f}'.format(np.interp(900, times_1m, magrange_1m)))\n",
    "\n",
    "print('\\n1 hr integration')\n",
    "print('='*20)\n",
    "print('Pathfinder, 5 sigma limiting depth: {:.1f}'.format(np.interp(3600, times, magrange)))\n",
    "print('Full scale, 5 sigma limiting depth: {:.1f}'.format(np.interp(3600, times_1m, magrange_1m)))"
   ]
  },
  {
   "cell_type": "markdown",
   "id": "a7715ee1",
   "metadata": {},
   "source": [
    "If you'd like to play with the parameters with a script of your own, or would prefer not to use the parameter files, you can also specify parameters directly and combine them into a large array. Make sure the ordering is consistent as presented here.  "
   ]
  },
  {
   "cell_type": "code",
   "execution_count": 16,
   "id": "62095d92",
   "metadata": {
    "ExecuteTime": {
     "end_time": "2024-02-21T23:19:13.567642Z",
     "start_time": "2024-02-21T23:19:13.564323Z"
    }
   },
   "outputs": [],
   "source": [
    "#Telescope properties/detector characteristics\n",
    "frame_time = 2 #[s]\n",
    "avg_skyBrightness = 1.20E-04 #K-dark Dome C estimate, [Jy arcsec^-2] (relevant only if skyBrightness_file not defined)\n",
    "focal_length = 0.525 #[m]\n",
    "read_noise = 15 #[e]\n",
    "dark_current = 0.1 #[e/s]\n",
    "pixel_size = 1.80E-05 #[m]\n",
    "beam_obstruction = 8.0E-3 #[m^2] (Area of detector housing + spider vanes in the FOV)\n",
    "avg_qe = 0.9 #(relevant only if qeData not defined)\n",
    "aperture_diameter = 0.26 #[m]\n",
    "\n",
    "#Throughputs\n",
    "avg_skyTransmission = 0.95 #(relevant only if skyTransmission_file not defined)\n",
    "avg_filterTransmission = 0.98 #(relevant only if filterTransmission_file not defined )\n",
    "transmission_loss = 0.005 #Transmission loss per surface\n",
    "num_tlosses = 4 #Number of transmission losses\n",
    "reflection_loss = 0.04 # Loss per reflection\n",
    "num_rlosses = 1 #Number of reflections\n",
    "\n",
    "#K-dark observing\n",
    "central_wavelength = 2.38e-06 #[m]\n",
    "passband = 2.26e-07 #[m] (relevant only if filterTransmission_file not defined)\n",
    "ambientTemp = -80 #Window temperature [C]\n",
    "\n",
    "#Relevant parameters for integrating over spectral profiles (rather than using an estimate for an average value)\n",
    "skyBrightness_file = 'data_files/ashley_sky.csv' #Sky brightness spectrum\n",
    "skyTransmission_file = 'data_files/ashley_skytrans.csv' #Sky transmission spectrum\n",
    "qe_file = 'data_files/H2RG_qedata.csv' #QE spectrum\n",
    "filterTransmission_file = 'data_files/kdarkfilter.csv' #Filter transmission spectrum\n",
    "sio2Transmission_file = 'data_files/sio2_tran.csv' #SiO2 transmission spectrum for corrector lens TSE calculations\n",
    "\n",
    "parameters = np.array([frame_time,avg_skyBrightness,focal_length,read_noise,\n",
    "                       dark_current,pixel_size,beam_obstruction,avg_qe,aperture_diameter,avg_skyTransmission,\n",
    "                       avg_filterTransmission,transmission_loss,num_tlosses,reflection_loss,num_rlosses,\n",
    "                       central_wavelength,passband,ambientTemp,skyBrightness_file,skyTransmission_file,\n",
    "                       qe_file,filterTransmission_file,sio2Transmission_file])"
   ]
  },
  {
   "cell_type": "markdown",
   "id": "04d4eeb3",
   "metadata": {},
   "source": [
    "And then specify ``param_arr`` instead of ``param_file`` when initializing. Everything else is the same from here."
   ]
  },
  {
   "cell_type": "code",
   "execution_count": 17,
   "id": "93846f77",
   "metadata": {},
   "outputs": [],
   "source": [
    "plan = PlanExposure(param_arr=parameters)"
   ]
  }
 ],
 "metadata": {
  "kernelspec": {
   "display_name": "Python 3 (ipykernel)",
   "language": "python",
   "name": "python3"
  },
  "language_info": {
   "codemirror_mode": {
    "name": "ipython",
    "version": 3
   },
   "file_extension": ".py",
   "mimetype": "text/x-python",
   "name": "python",
   "nbconvert_exporter": "python",
   "pygments_lexer": "ipython3",
   "version": "3.9.12"
  }
 },
 "nbformat": 4,
 "nbformat_minor": 5
}
